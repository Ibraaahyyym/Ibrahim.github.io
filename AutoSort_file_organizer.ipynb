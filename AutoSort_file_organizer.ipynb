{
  "nbformat": 4,
  "nbformat_minor": 0,
  "metadata": {
    "colab": {
      "provenance": [],
      "authorship_tag": "ABX9TyOLV5KuyIOxKbZqP/lyM2xL",
      "include_colab_link": true
    },
    "kernelspec": {
      "name": "python3",
      "display_name": "Python 3"
    },
    "language_info": {
      "name": "python"
    }
  },
  "cells": [
    {
      "cell_type": "markdown",
      "metadata": {
        "id": "view-in-github",
        "colab_type": "text"
      },
      "source": [
        "<a href=\"https://colab.research.google.com/github/Ibraaahyyym/Ibrahim.github.io/blob/main/AutoSort_file_organizer.ipynb\" target=\"_parent\"><img src=\"https://colab.research.google.com/assets/colab-badge.svg\" alt=\"Open In Colab\"/></a>"
      ]
    },
    {
      "cell_type": "code",
      "execution_count": 5,
      "metadata": {
        "colab": {
          "base_uri": "https://localhost:8080/"
        },
        "id": "UbSH6gGnc3iq",
        "outputId": "53dd8f8e-d60a-4aaa-eb7a-d178b0f1213a"
      },
      "outputs": [
        {
          "output_type": "stream",
          "name": "stdout",
          "text": [
            "Drive already mounted at /content/drive; to attempt to forcibly remount, call drive.mount(\"/content/drive\", force_remount=True).\n",
            "Skipped index.html (no matching folder)\n"
          ]
        }
      ],
      "source": [
        "\n",
        "'''\n",
        "AutoSort is a Python-based file organizer that scans a target folder and automatically moves files into categorized subfolders based on file extensions. This version is designed to work on Google Colab using files stored in Google Drive.\n",
        "\n",
        "'''\n",
        "\n",
        "\n",
        "\n",
        "\n",
        "import os\n",
        "import shutil\n",
        "\n",
        "# Mount Google Drive\n",
        "from google.colab import drive\n",
        "drive.mount('/content/drive')\n",
        "\n",
        "# 📂 STEP 1: Set the folder you want to organize (within your Google Drive)\n",
        "TARGET_FOLDER = '/content/drive/MyDrive/AutoSort-Test/'  # Change this!\n",
        "\n",
        "# 📂 STEP 2: Define folders based on file types\n",
        "EXTENSION_MAP = {\n",
        "    'Images': ['.jpg', '.jpeg', '.png', '.gif'],\n",
        "    'Documents': ['.pdf', '.docx', '.txt', '.xlsx'],\n",
        "    'Videos': ['.mp4', '.mov', '.avi'],\n",
        "    'Music': ['.mp3', '.wav'],\n",
        "    'Archives': ['.zip', '.rar', '.7z'],\n",
        "    'Apps': ['.exe', '.apk', '.msi']\n",
        "}\n",
        "\n",
        "# 🔄 STEP 3: Organize files\n",
        "def auto_sort(folder):\n",
        "    files = os.listdir(folder)\n",
        "    for file in files:\n",
        "        file_path = os.path.join(folder, file)\n",
        "        if os.path.isfile(file_path):\n",
        "            _, ext = os.path.splitext(file)\n",
        "            ext = ext.lower()\n",
        "\n",
        "            # Find the matching folder\n",
        "            for folder_name, extensions in EXTENSION_MAP.items():\n",
        "                if ext in extensions:\n",
        "                    target_path = os.path.join(folder, folder_name)\n",
        "                    os.makedirs(target_path, exist_ok=True)\n",
        "                    shutil.move(file_path, os.path.join(target_path, file))\n",
        "                    print(f\"Moved {file} → {folder_name}\")\n",
        "                    break\n",
        "            else:\n",
        "                print(f\"Skipped {file} (no matching folder)\")\n",
        "\n",
        "# Run the sorter\n",
        "auto_sort(TARGET_FOLDER)"
      ]
    }
  ]
}